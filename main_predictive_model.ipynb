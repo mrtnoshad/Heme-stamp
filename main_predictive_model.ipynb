{
 "cells": [
  {
   "cell_type": "code",
   "execution_count": 163,
   "metadata": {},
   "outputs": [],
   "source": [
    "%matplotlib inline\n",
    "#%matplotlib notebook\n",
    "import matplotlib.pyplot as plt\n",
    "import matplotlib\n",
    "\n",
    "\n",
    "from sklearn import svm\n",
    "#from multi_class_classifiers import XGboost_classifier, RandomForest_classifier, AdaBoost_classifier\n",
    "from sklearn.ensemble import AdaBoostClassifier, GradientBoostingClassifier\n",
    "from sklearn.metrics import accuracy_score, roc_auc_score, balanced_accuracy_score, f1_score\n",
    "from sklearn.tree import DecisionTreeClassifier\n",
    "\n",
    "import numpy as np\n",
    "import pandas as pd\n"
   ]
  },
  {
   "cell_type": "code",
   "execution_count": 164,
   "metadata": {},
   "outputs": [
    {
     "name": "stdout",
     "output_type": "stream",
     "text": [
      "['ANON_ID', 'label', 'gender_bool', 'age', 'chemo_dx_hist', 'other_long_therapy_dx_hist', 'MDS_dx_hist', 'Thrombocytopenia_dx_hist', 'Neoplasm_dx_hist', 'skin_eruption_dx_hist', 'Sezary_dx_hist', 'myelodysplastic_dx_hist', 'hypertension_dx_hist', 'Myelofibrosis_dx_hist', 'Mycosis_dx_hist', 'Cancer_med_hist', 'Other_med_hist', 'CAD_med_hist', 'abn_WBC', 'avg_WBC', 'abn_Hgb', 'avg_Hgb', 'abn_RDW', 'avg_RDW', 'abn_MCV', 'avg_MCV', 'abn_Esn', 'avg_Esn', 'abn_Mnc', 'avg_Mnc', 'abn_MCH', 'avg_MCH', 'abn_LDH', 'avg_LDH', 'abn_CD34', 'avg_CD34', 'abn_CD3PanT', 'avg_CD3PanT', 'abn_CD48', 'avg_CD48', 'abn_CD19', 'avg_CD19', 'abn_Anion', 'avg_Anion', 'abn_IgG', 'avg_IgG', 'abn_Basophils', 'avg_Basophils', 'abn_RBC', 'avg_RBC', 'abn_Globulin', 'avg_Globulin', 'abn_Lym', 'avg_Lym', 'abn_Ntr', 'avg_Ntr', 'abn_BUN', 'avg_BUN', 'abn_eGFR', 'avg_eGFR', 'abn_Albumin', 'avg_Albumin', 'abn_Glc', 'avg_Glc', 'abn_Cal', 'avg_Cal', 'abn_Crt', 'abn_Alk', 'DEXAMETHASONE_med_hist', 'IV_BOLUS_med_hist', 'ONDANSETRON_med_hist', 'LIDOCAINE_med_hist', 'HEPARIN_hist', 'SODIUM_CHLORIDE_hist', 'ALTEPLASE_hist', 'EPINEPHRINE_hist', 'CHEMO_med_hist']\n",
      "(1126, 77)\n",
      "['JCcb6d41' '0.0' '1' '33' '0' '1' '0' '0' '0' '0' '0' '0' '1' '0' '0' '0'\n",
      " '1' '0' '0.0' '0' '0.0' '0' '0.0' '0' '0.0' '0' '0.0' '0' '0.0' '0' '0.0'\n",
      " '0' '0.0' '0' '0.0' '0' '0.0' '0' '0.0' '0' '0.0' '0' '0.0' '0' '0.0' '0'\n",
      " '0.0' '0' '0.0' '0' '0.0' '0' '0.0' '0' '0.0' '0' '0.0' '0' '0.0' '0'\n",
      " '0.0' '0' '0.0' '0' '0.0' '0' '0.0' '0.0' '0' '0' '0' '0' '0' '0' '0' '0'\n",
      " '0']\n"
     ]
    }
   ],
   "source": [
    "# load feature_mat.csv;\n",
    "import csv\n",
    "#with open('feature_mat.csv', 'r') as f:\n",
    "#with open('feature_mat_num.csv', 'r') as f:\n",
    "with open('feature_mat_v8.csv', 'r') as f:\n",
    "    A = csv.reader(f)\n",
    "    temp = list(A)\n",
    "print(temp[0])\n",
    "np_all = temp[1:]\n",
    "#print(X)\n",
    "#X = np.genfromtxt('role_stat.csv', delimiter=',')\n",
    "np_all = np.array(np_all)\n",
    "print(np_all.shape)\n",
    "print(np_all[0,:])\n",
    "N,p = np_all.shape[0], np_all.shape[0]-1"
   ]
  },
  {
   "cell_type": "code",
   "execution_count": null,
   "metadata": {},
   "outputs": [],
   "source": [
    "# check if the labels are corretly matched\n",
    "print(np_all[20,[0,1]])\n",
    "print(np_all[120,[0,1]])\n",
    "print(np_all[420,[0,1]])\n",
    "print(np_all[820,[0,1]])\n",
    "print(np_all[920,[0,1]])"
   ]
  },
  {
   "cell_type": "code",
   "execution_count": 165,
   "metadata": {},
   "outputs": [],
   "source": [
    "# split the data and prepare for training\n",
    "#print(np_all[299:300,2:])\n",
    "\n",
    "X_all = np_all[:,2:].astype(float)\n",
    "Y_all = np_all[:,1].astype(float).astype(int)\n"
   ]
  },
  {
   "cell_type": "code",
   "execution_count": 166,
   "metadata": {},
   "outputs": [
    {
     "name": "stdout",
     "output_type": "stream",
     "text": [
      "['gender_bool', 'age', 'chemo_dx_hist', 'other_long_therapy_dx_hist', 'MDS_dx_hist', 'Thrombocytopenia_dx_hist', 'Neoplasm_dx_hist', 'skin_eruption_dx_hist', 'Sezary_dx_hist', 'myelodysplastic_dx_hist', 'hypertension_dx_hist', 'Myelofibrosis_dx_hist', 'Mycosis_dx_hist', 'Cancer_med_hist', 'Other_med_hist', 'CAD_med_hist', 'abn_WBC', 'avg_WBC', 'abn_Hgb', 'avg_Hgb', 'abn_RDW', 'avg_RDW', 'abn_MCV', 'avg_MCV', 'abn_Esn', 'avg_Esn', 'abn_Mnc', 'avg_Mnc', 'abn_MCH', 'avg_MCH', 'abn_LDH', 'avg_LDH', 'abn_CD34', 'avg_CD34', 'abn_CD3PanT', 'avg_CD3PanT', 'abn_CD48', 'avg_CD48', 'abn_CD19', 'avg_CD19', 'abn_Anion', 'avg_Anion', 'abn_IgG', 'avg_IgG', 'abn_Basophils', 'avg_Basophils', 'abn_RBC', 'avg_RBC', 'abn_Globulin', 'avg_Globulin', 'abn_Lym', 'avg_Lym', 'abn_Ntr', 'avg_Ntr', 'abn_BUN', 'avg_BUN', 'abn_eGFR', 'avg_eGFR', 'abn_Albumin', 'avg_Albumin', 'abn_Glc', 'avg_Glc', 'abn_Cal', 'avg_Cal', 'abn_Crt', 'abn_Alk', 'DEXAMETHASONE_med_hist', 'IV_BOLUS_med_hist', 'ONDANSETRON_med_hist', 'LIDOCAINE_med_hist', 'HEPARIN_hist', 'SODIUM_CHLORIDE_hist', 'ALTEPLASE_hist', 'EPINEPHRINE_hist', 'CHEMO_med_hist']\n",
      "max of features:  [1.00000000e+00 9.00000000e+01 1.00000000e+00 1.00000000e+00\n",
      " 1.00000000e+00 1.00000000e+00 1.00000000e+00 1.00000000e+00\n",
      " 1.00000000e+00 1.00000000e+00 1.00000000e+00 1.00000000e+00\n",
      " 1.00000000e+00 1.00000000e+00 1.00000000e+00 1.00000000e+00\n",
      " 8.83720930e-01 7.50000390e+06 9.91150442e-01 2.85714934e+06\n",
      " 9.90476190e-01 2.00002685e+06 9.76744186e-01 1.15697674e+02\n",
      " 6.66666667e-01 1.61290808e+05 8.57142857e-01 2.72883871e+01\n",
      " 9.72972973e-01 3.67551020e+01 9.16666667e-01 4.54807591e+05\n",
      " 8.00000000e-01 1.00264072e+03 8.57142857e-01 5.27500000e+03\n",
      " 6.66666667e-01 6.18769231e+01 9.71428571e-01 1.44566667e+04\n",
      " 6.66666667e-01 4.99999950e+06 9.28571429e-01 2.69000000e+03\n",
      " 9.09090909e-01 6.78000000e+00 9.76744186e-01 6.66666666e+06\n",
      " 9.66666667e-01 1.13000000e+01 8.57142857e-01 2.50000968e+06\n",
      " 8.18181818e-01 3.00002077e+06 9.60000000e-01 8.90000000e+01\n",
      " 9.81818182e-01 9.85074528e+06 9.87951807e-01 3.33333437e+06\n",
      " 9.23076923e-01 2.58333333e+02 9.54954955e-01 5.81925000e+02\n",
      " 9.62962963e-01 9.80769231e-01 1.00000000e+00 1.00000000e+00\n",
      " 1.00000000e+00 1.00000000e+00 1.00000000e+00 1.00000000e+00\n",
      " 1.00000000e+00 1.00000000e+00 1.00000000e+00]\n",
      "min of features:  [0. 0. 0. 0. 0. 0. 0. 0. 0. 0. 0. 0. 0. 0. 0. 0. 0. 0. 0. 0. 0. 0. 0. 0.\n",
      " 0. 0. 0. 0. 0. 0. 0. 0. 0. 0. 0. 0. 0. 0. 0. 0. 0. 0. 0. 0. 0. 0. 0. 0.\n",
      " 0. 0. 0. 0. 0. 0. 0. 0. 0. 0. 0. 0. 0. 0. 0. 0. 0. 0. 0. 0. 0. 0. 0. 0.\n",
      " 0. 0. 0.]\n",
      "(1126, 75)\n",
      "416\n",
      "710\n",
      "0.1341030195381883\n"
     ]
    }
   ],
   "source": [
    "## Preleminary feature anaysis\n",
    "\n",
    "# normalize the features\n",
    "print(temp[0][2:])\n",
    "#print(X_all[100:110,:])\n",
    "\n",
    "print('max of features: ', np.max(X_all,axis=0))\n",
    "print('min of features: ', np.min(X_all,axis=0))\n",
    "\n",
    "# Exclude some of the features\n",
    "#X_all = X_all[:,[0,1,2,3,4,5,6,7,8,9,10,11,12]] # exclude 4 and 13\n",
    "print(X_all.shape)\n",
    "\n",
    "print(np.where(Y_all==0)[0].shape[0])\n",
    "print(np.where(Y_all==1)[0].shape[0])\n",
    "# normalize\n",
    "X_all = X_all / np.max(X_all,axis=0)\n",
    "#print('Normalized feature matrix: ')\n",
    "#print(X_all)\n",
    "print(np.mean(X_all[:,5]))"
   ]
  },
  {
   "cell_type": "code",
   "execution_count": 156,
   "metadata": {},
   "outputs": [
    {
     "name": "stdout",
     "output_type": "stream",
     "text": [
      "['abn_WBC', 'age', 'avg_WBC', 'abn_Lym', 'avg_Glc', 'abn_RDW', 'avg_Mnc', 'abn_Hgb', 'gender_bool', 'avg_MCV', 'abn_Mnc', 'avg_MCH', 'avg_LDH', 'avg_BUN', 'abn_Ntr']\n"
     ]
    }
   ],
   "source": [
    "# Feature Selection\n",
    "\n",
    "#I_subset = np.array([1, 20, 23,  0, 27, 35, 10, 11, 31,  3])  #8, 32,  9, 26, 34])\n",
    "\n",
    "#I_subset = np.array([1, 20,  5,  9, 22, 28, 27,  6, 10, 23,  7, 30, 26, 29, 24,  8])\n",
    "\n",
    "#I_subset = np.array([5.,  1.,  6., 39., 16., 13., 44., 38.,  9., 20., 36., 29., 35.,\n",
    "#       12.,  7., 54.,  0., 49., 50., 18.]).astype(int)\n",
    "\n",
    "#I_subset = np.array([25., 53.,  1., 45., 13.,  9., 27., 19., 11., 23., 51., 42.,  7.,\n",
    "#        2., 39.,  5., 62.,  0., 16., 63.]).astype(int)\n",
    "    \n",
    "I_subset = np.array([16.,  1., 17., 50., 61., 20., 27., 18.,  0., 23., 26., 29., 31.,\n",
    "       55., 52.]).astype(int)\n",
    "\n",
    "#I_subset = np.array([51., 35., 13., 49., 53., 32.]).astype(int)\n",
    "                     \n",
    "#I_subset = np.array([1, 20,  5,  9, 22, 28, 27,  6, 10, 23,  7])\n",
    "\n",
    "#I_subset = np.array([1, 20, 23,  0, 27, 35, 10])\n",
    "feature_names = temp[0][2:]\n",
    "print([feature_names[i] for i in I_subset])\n",
    "\n",
    "\n",
    "X_all = X_all[:,I_subset]\n",
    "\n",
    "#print(X_all.shape)\n"
   ]
  },
  {
   "cell_type": "code",
   "execution_count": 167,
   "metadata": {},
   "outputs": [
    {
     "name": "stdout",
     "output_type": "stream",
     "text": [
      "N:  1126\n",
      "0.1341030195381883\n",
      "0.1341030195381883\n",
      "0.13444444444444445\n",
      "0.13274336283185842\n",
      "labels for train dataset: \n",
      "326\n",
      "574\n",
      "labels for test dataset: \n",
      "90\n",
      "136\n"
     ]
    }
   ],
   "source": [
    "# split to train and test and apply random permutation\n",
    "\n",
    "N_train = 900\n",
    "N_test = N - N_train\n",
    "\n",
    "\n",
    "# random permutation\n",
    "I = np.random.permutation(N)\n",
    "#print(I[:40])\n",
    "#print(I.shape)\n",
    "#I_a = np.array([ 367,  988, 1108,  883,  896 ,1054,  930  ,159 , 147 ])\n",
    "\n",
    "print('N: ',N)\n",
    "PID = np_all[I,0]\n",
    "X_perm = X_all[I,:]\n",
    "Y_perm = Y_all[I]\n",
    "\n",
    "print(np.mean(X_all[:,5]))\n",
    "print(np.mean(X_perm[:,5]))\n",
    "\n",
    "\n",
    "# train and test data\n",
    "X_train = X_perm[:N_train,:].astype(float)\n",
    "X_test = X_perm[N_train:,].astype(float)\n",
    "\n",
    "Y_train = Y_perm[:N_train].astype(float).astype(int)\n",
    "Y_test = Y_perm[N_train:].astype(float).astype(int)\n",
    "\n",
    "PID_test = PID[N_train:]\n",
    "\n",
    "print(np.mean(X_train[:,5]))\n",
    "print(np.mean(X_test[:,5]))\n",
    "\n",
    "# test labels\n",
    "#print(np.where(Y_all==0)[0].shape[0])\n",
    "#print(np.where(Y_all==1)[0].shape[0])\n",
    "\n",
    "#print(np.where(Y_perm==0)[0].shape[0])\n",
    "#print(np.where(Y_perm==1)[0].shape[0])\n",
    "\n",
    "print('labels for train dataset: ')\n",
    "print(np.where(Y_train==0)[0].shape[0])\n",
    "print(np.where(Y_train==1)[0].shape[0])\n",
    "\n",
    "print('labels for test dataset: ')\n",
    "print(np.where(Y_test==0)[0].shape[0])\n",
    "print(np.where(Y_test==1)[0].shape[0])\n"
   ]
  },
  {
   "cell_type": "code",
   "execution_count": 124,
   "metadata": {},
   "outputs": [
    {
     "name": "stdout",
     "output_type": "stream",
     "text": [
      "[1 0 0 0 1 1 0 0 1 1 1 1 1 1 1 0 0 0 1 0 1 1 1 1 1 0 1 1 0 1]\n",
      "58\n"
     ]
    }
   ],
   "source": [
    "# Define the classification model: SVM\n",
    "\n",
    "\n",
    "from machine_learner import *\n",
    "from sklearn.ensemble import GradientBoostingClassifier as Gradboost, AdaBoostClassifier\n",
    "from sklearn.svm import SVC\n",
    "import sklearn\n",
    "from xgboost import XGBClassifier\n",
    "\n",
    "\n",
    "#clf = SVC(probability=True) \n",
    "#clf.fit(X_train, Y_train)\n",
    "#Y_pred = clf.predict(X_test)\n",
    "\n",
    "#Y_pred = AdaBosst_classifier(X_train, Y_train, X_test) \n",
    "#Y_pred = RandomForest_classifier(X_train, Y_train, X_test) \n",
    "#Y_pred = DecisionTree_classifier(X_train, Y_train, X_test) \n",
    "#Y_pred = KNN_classifier(X_train, Y_train, X_test) \n",
    "\n",
    "\n",
    "\n",
    "\n",
    "#eval_set = [(X_test, Y_test)]\n",
    "clf = AdaBoostClassifier()#(n_estimators = 100, learning_rate = 0.2, max_depth=5, subsample = 0.5)\n",
    "clf.fit(X_train, Y_train)#, early_stopping_rounds=20, eval_metric=\"auc\", eval_set=eval_set, verbose=True)\n",
    "Y_pred = clf.predict(X_test)\n",
    "\n",
    "\n",
    "\n",
    "\n",
    "print(Y_pred[:30])\n",
    "print(np.where(Y_pred==0)[0].shape[0])"
   ]
  },
  {
   "cell_type": "code",
   "execution_count": 168,
   "metadata": {},
   "outputs": [
    {
     "name": "stdout",
     "output_type": "stream",
     "text": [
      "[0]\tvalidation_0-auc:0.654657\n",
      "Will train until validation_0-auc hasn't improved in 20 rounds.\n",
      "[1]\tvalidation_0-auc:0.656046\n",
      "[2]\tvalidation_0-auc:0.672835\n",
      "[3]\tvalidation_0-auc:0.669444\n",
      "[4]\tvalidation_0-auc:0.67933\n",
      "[5]\tvalidation_0-auc:0.673979\n",
      "[6]\tvalidation_0-auc:0.673856\n",
      "[7]\tvalidation_0-auc:0.680474\n",
      "[8]\tvalidation_0-auc:0.69183\n",
      "[9]\tvalidation_0-auc:0.691667\n",
      "[10]\tvalidation_0-auc:0.680474\n",
      "[11]\tvalidation_0-auc:0.68268\n",
      "[12]\tvalidation_0-auc:0.68509\n",
      "[13]\tvalidation_0-auc:0.687377\n",
      "[14]\tvalidation_0-auc:0.687908\n",
      "[15]\tvalidation_0-auc:0.681046\n",
      "[16]\tvalidation_0-auc:0.687337\n",
      "[17]\tvalidation_0-auc:0.695956\n",
      "[18]\tvalidation_0-auc:0.69134\n",
      "[19]\tvalidation_0-auc:0.689747\n",
      "[20]\tvalidation_0-auc:0.688603\n",
      "[21]\tvalidation_0-auc:0.689502\n",
      "[22]\tvalidation_0-auc:0.687459\n",
      "[23]\tvalidation_0-auc:0.688848\n",
      "[24]\tvalidation_0-auc:0.690155\n",
      "[25]\tvalidation_0-auc:0.687214\n",
      "[26]\tvalidation_0-auc:0.678554\n",
      "[27]\tvalidation_0-auc:0.670792\n",
      "[28]\tvalidation_0-auc:0.665727\n",
      "[29]\tvalidation_0-auc:0.657067\n",
      "[30]\tvalidation_0-auc:0.653431\n",
      "[31]\tvalidation_0-auc:0.661601\n",
      "[32]\tvalidation_0-auc:0.664052\n",
      "[33]\tvalidation_0-auc:0.665931\n",
      "[34]\tvalidation_0-auc:0.661193\n",
      "[35]\tvalidation_0-auc:0.662623\n",
      "[36]\tvalidation_0-auc:0.664093\n",
      "[37]\tvalidation_0-auc:0.665645\n",
      "Stopping. Best iteration:\n",
      "[17]\tvalidation_0-auc:0.695956\n",
      "\n",
      "[1 1 1 1 0 1 0 0 1 1 0 0 1 1 0 1 1 1 1 0 0 1 1 0 0 0 1 1 1 1]\n",
      "60\n"
     ]
    }
   ],
   "source": [
    "# XGBoost\n",
    "\n",
    "\n",
    "from machine_learner import *\n",
    "from sklearn.ensemble import GradientBoostingClassifier as Gradboost, AdaBoostClassifier\n",
    "from sklearn.svm import SVC\n",
    "import sklearn\n",
    "from xgboost import XGBClassifier\n",
    "\n",
    "#Y_test = Y_train\n",
    "#X_test = X_train\n",
    "\n",
    "#Y_pred = SVM_classifier(X_train, Y_train, X_test) \n",
    "#Y_pred = AdaBosst_classifier(X_train, Y_train, X_test) \n",
    "#Y_pred = RandomForest_classifier(X_train, Y_train, X_test) \n",
    "#Y_pred = DecisionTree_classifier(X_train, Y_train, X_test) \n",
    "#Y_pred = KNN_classifier(X_train, Y_train, X_test) \n",
    "\n",
    "\n",
    "#clf = AdaBoostClassifier()\n",
    "#clf = sklearn.tree.DecisionTreeClassifier() #probability=True)\n",
    "#clf = XGBoost()\n",
    "#clf.fit(X_train, Y_train)\n",
    "#Y_pred = clf.predict(X_test)\n",
    "\n",
    "\n",
    "eval_set = [(X_test, Y_test)]\n",
    "clf = XGBClassifier(n_estimators = 100, learning_rate = 0.2, max_depth=5, subsample = 0.5)\n",
    "clf.fit(X_train, Y_train, early_stopping_rounds=20, eval_metric=\"auc\", eval_set=eval_set, verbose=True)\n",
    "Y_pred = clf.predict(X_test)\n",
    "\n",
    "\n",
    "#model.fit(X_train, y_train, eval_metric=\"error\", eval_set=eval_set, verbose=True)\n",
    "\n",
    "#clf.fit(X_train, Y_train, early_stopping_rounds=10, eval_metric=\"auc\", eval_set=eval_set, verbose=True)\n",
    "#Y_pred = clf.predict(X_test)\n",
    "\n",
    "#Y_test = Y_train\n",
    "\n",
    "\n",
    "print(Y_pred[:30])\n",
    "print(np.where(Y_pred==0)[0].shape[0])"
   ]
  },
  {
   "cell_type": "code",
   "execution_count": 159,
   "metadata": {},
   "outputs": [
    {
     "name": "stdout",
     "output_type": "stream",
     "text": [
      "NPV:  0.5079365079365079\n",
      "false omission rate (FOR): 0.49206349206349204\n",
      "TNR:  0.4155844155844156\n",
      "ratio of the negative tests to the total number of tests: 0.27876106194690264\n"
     ]
    }
   ],
   "source": [
    "#Classification performance\n",
    "from sklearn.metrics import confusion_matrix\n",
    "\n",
    "tn, fp, fn, tp = confusion_matrix(Y_test, Y_pred).ravel()\n",
    "\n",
    "print('NPV: ',tn/(fn+tn))\n",
    "\n",
    "print('false omission rate (FOR):', fn/(fn+tn)) # to be set to %10, find (fn+tn)/(T+P)\n",
    "\n",
    "\n",
    "print('TNR: ',tn/(tn+fp))\n",
    "\n",
    "print('ratio of the negative tests to the total number of tests:', (tn+fn)/(tn+tp+fp+fn))"
   ]
  },
  {
   "cell_type": "code",
   "execution_count": 160,
   "metadata": {},
   "outputs": [
    {
     "name": "stdout",
     "output_type": "stream",
     "text": [
      "NPV:  nan\n",
      "false omission rate (FOR): nan\n",
      "TNR:  0.0\n",
      "Recall:  0.7919463087248322\n",
      "ratio of the negative tests to the total number of tests: 0.0\n",
      "precision:  0.7239263803680982\n"
     ]
    },
    {
     "name": "stderr",
     "output_type": "stream",
     "text": [
      "/Library/Frameworks/Python.framework/Versions/3.6/lib/python3.6/site-packages/ipykernel_launcher.py:9: RuntimeWarning: invalid value encountered in long_scalars\n",
      "  if __name__ == '__main__':\n",
      "/Library/Frameworks/Python.framework/Versions/3.6/lib/python3.6/site-packages/ipykernel_launcher.py:11: RuntimeWarning: invalid value encountered in long_scalars\n",
      "  # This is added back by InteractiveShellApp.init_path()\n"
     ]
    }
   ],
   "source": [
    "# Set custom threshold\n",
    "\n",
    "from sklearn.metrics import recall_score, precision_score\n",
    "\n",
    "Y_pred_2 = (clf.predict_proba(X_test)[:,1] >= 0.32).astype(bool)\n",
    "\n",
    "tn, fp, fn, tp = confusion_matrix(Y_test, Y_pred_2).ravel()\n",
    "\n",
    "print('NPV: ',tn/(fn+tn))\n",
    "\n",
    "print('false omission rate (FOR):', fn/(fn+tn)) # to be set to %10, find (fn+tn)/(T+P)\n",
    "\n",
    "\n",
    "print('TNR: ',tn/(tn+fp))\n",
    "\n",
    "\n",
    "RC = recall_score(Y_test,Y_pred) # 1- recall\n",
    "print('Recall: ', RC)\n",
    "\n",
    "print('ratio of the negative tests to the total number of tests:', (tn+fn)/(tn+tp+fp+fn))\n",
    "\n",
    "\n",
    "Prc = precision_score(Y_test,Y_pred) \n",
    "print('precision: ', Prc)"
   ]
  },
  {
   "cell_type": "code",
   "execution_count": 169,
   "metadata": {},
   "outputs": [
    {
     "data": {
      "image/png": "[encoded data removed]",
      "text/plain": [
       "<Figure size 432x288 with 1 Axes>"
      ]
     },
     "metadata": {
      "needs_background": "light"
     },
     "output_type": "display_data"
    }
   ],
   "source": [
    "# plot ROC\n",
    "\n",
    "from sklearn.metrics import roc_curve\n",
    "from matplotlib import rcParams\n",
    "rcParams['font.family'] = 'serif'\n",
    "rcParams.update({'font.size': 12})\n",
    "plt.rcParams['axes.labelweight'] = 'bold'\n",
    "import time\n",
    "\n",
    "\n",
    "\n",
    "\n",
    "fpr, tpr, thresholds = roc_curve(Y_test, clf.predict_proba(X_test)[:,0], pos_label= 0)\n",
    "plt.plot(fpr,tpr)\n",
    "\n",
    "plt.xlabel('FNR')\n",
    "plt.ylabel('TNR')\n",
    "\n",
    "timestr = time.strftime(\"%m_%d_%Y_%H%M%S\")\n",
    "plt.tight_layout()\n",
    "plt.savefig('figures/'+timestr +'_ROC' +'.png', dpi=300)\n",
    "\n",
    "\n",
    "\n",
    "plt.show()"
   ]
  },
  {
   "cell_type": "code",
   "execution_count": 170,
   "metadata": {
    "scrolled": false
   },
   "outputs": [
    {
     "name": "stdout",
     "output_type": "stream",
     "text": [
      "Thr[i], NPV_vec[i], TNR_vec[i] 0.15 0.0 0.0\n",
      "Thr[i], NPV_vec[i], TNR_vec[i] 0.16842105263157894 0.0 0.0\n",
      "Thr[i], NPV_vec[i], TNR_vec[i] 0.1868421052631579 0.0 0.0\n",
      "Thr[i], NPV_vec[i], TNR_vec[i] 0.20526315789473681 0.3333333333333333 0.011111111111111112\n",
      "Thr[i], NPV_vec[i], TNR_vec[i] 0.22368421052631576 0.3333333333333333 0.011111111111111112\n",
      "Thr[i], NPV_vec[i], TNR_vec[i] 0.2421052631578947 0.6666666666666666 0.044444444444444446\n",
      "Thr[i], NPV_vec[i], TNR_vec[i] 0.26052631578947366 0.6666666666666666 0.044444444444444446\n",
      "Thr[i], NPV_vec[i], TNR_vec[i] 0.2789473684210526 0.7142857142857143 0.05555555555555555\n",
      "Thr[i], NPV_vec[i], TNR_vec[i] 0.29736842105263156 0.7777777777777778 0.07777777777777778\n",
      "Thr[i], NPV_vec[i], TNR_vec[i] 0.3157894736842105 0.5833333333333334 0.07777777777777778\n",
      "Thr[i], NPV_vec[i], TNR_vec[i] 0.33421052631578946 0.5384615384615384 0.07777777777777778\n",
      "Thr[i], NPV_vec[i], TNR_vec[i] 0.3526315789473684 0.5 0.08888888888888889\n",
      "Thr[i], NPV_vec[i], TNR_vec[i] 0.3710526315789473 0.5652173913043478 0.14444444444444443\n",
      "Thr[i], NPV_vec[i], TNR_vec[i] 0.3894736842105263 0.52 0.14444444444444443\n",
      "Thr[i], NPV_vec[i], TNR_vec[i] 0.4078947368421052 0.575 0.25555555555555554\n",
      "Thr[i], NPV_vec[i], TNR_vec[i] 0.4263157894736842 0.5909090909090909 0.28888888888888886\n",
      "Thr[i], NPV_vec[i], TNR_vec[i] 0.4447368421052631 0.5909090909090909 0.28888888888888886\n",
      "Thr[i], NPV_vec[i], TNR_vec[i] 0.4631578947368421 0.5869565217391305 0.3\n",
      "Thr[i], NPV_vec[i], TNR_vec[i] 0.481578947368421 0.5882352941176471 0.3333333333333333\n",
      "Thr[i], NPV_vec[i], TNR_vec[i] 0.5 0.5666666666666667 0.37777777777777777\n"
     ]
    },
    {
     "data": {
      "text/plain": [
       "[]"
      ]
     },
     "execution_count": 170,
     "metadata": {},
     "output_type": "execute_result"
    },
    {
     "data": {
      "image/png": "[encoded data removed]",
      "text/plain": [
       "<Figure size 432x288 with 1 Axes>"
      ]
     },
     "metadata": {
      "needs_background": "light"
     },
     "output_type": "display_data"
    }
   ],
   "source": [
    "# plot NPV vs TNR\n",
    "\n",
    "num = 20\n",
    "Thr = np.linspace(0.15,0.50,num = num)\n",
    "NPV_vec= np.zeros(num)\n",
    "TNR_vec = np.zeros(num)\n",
    "\n",
    "for i in range(num):\n",
    "    \n",
    "    Y_pred_2 = (clf.predict_proba(X_test)[:,1] >= Thr[i] ).astype(bool)\n",
    "    tn, fp, fn, tp = confusion_matrix(Y_test, Y_pred_2).ravel()\n",
    "    NPV_vec[i] = tn/(fn+tn)\n",
    "    TNR_vec[i] = tn/(tn+fp)\n",
    "    print('Thr[i], NPV_vec[i], TNR_vec[i]', Thr[i], NPV_vec[i], TNR_vec[i])\n",
    "\n",
    "plt.plot(NPV_vec,TNR_vec)\n",
    "\n",
    "plt.xlabel('NPV')\n",
    "plt.ylabel('TNR')\n",
    "\n",
    "timestr = time.strftime(\"%m_%d_%Y_%H%M%S\")\n",
    "plt.tight_layout()\n",
    "plt.savefig('figures/'+timestr +'_NPV' +'.png', dpi=300)\n",
    "\n",
    "\n",
    "\n",
    "plt.plot()"
   ]
  },
  {
   "cell_type": "code",
   "execution_count": null,
   "metadata": {},
   "outputs": [],
   "source": [
    "# Other scores:\n",
    "\n",
    "\n",
    "#Y_test = Y_train\n",
    "from sklearn.metrics import recall_score, precision_score\n",
    "\n",
    "# print result\n",
    "err_rate = np.sum(Y_pred!=Y_test)/N_test\n",
    "print('classification error rate', err_rate)\n",
    "print('precentage of positive labels',np.sum(Y_test)/N_test)\n",
    "\n",
    "print(Y_test[:20])\n",
    "print(Y_pred[:20])\n",
    "\n",
    "#accuracy metrics\n",
    "\n",
    "\n",
    "acc = accuracy_score(Y_test, Y_pred)\n",
    "\n",
    "print('acc: ', acc)\n",
    "\n",
    "#bacc = balanced_accuracy_score(Y_test, Y_pred)\n",
    "#print('balanced acc: ', bacc)\n",
    "\n",
    "auc = roc_auc_score(Y_test, Y_pred)\n",
    "print('auc: ',auc)\n",
    "\n",
    "f1score = f1_score(Y_test, Y_pred)\n",
    "print('f1score: ', f1score)\n",
    "# It is defined as the average of recall obtained on each class.\n",
    "\n",
    "\n",
    "# since label 1 corresponds to the null hypothesis, recall  = 1- recal_score:\n",
    "FNR = recall_score(Y_test,Y_pred) # 1- recall\n",
    "print('False Negative Rate ( 1 - recall): ', FNR)\n",
    "\n",
    "\n",
    "FDR = precision_score(Y_test,Y_pred) # \n",
    "print('FDR: ', FDR)\n",
    "\n",
    "print('recall, precision: ', 1-FNR, 1-FDR)"
   ]
  },
  {
   "cell_type": "code",
   "execution_count": null,
   "metadata": {},
   "outputs": [],
   "source": [
    "# use cross validated prob measure:\n",
    "\n",
    "clf = sklearn.svm.SVC(probability = True) #probability = True\n",
    "clf.fit(X_train, Y_train)\n",
    "#Y_pred = clf.predict(X_test)\n",
    "print('checkpoint')\n",
    "num = 20\n",
    "Thr = np.linspace(0.1,0.9,num = num)\n",
    "NPV_vec= np.zeros(num)\n",
    "TNR_vec = np.zeros(num)\n",
    "\n",
    "for i in range(num):\n",
    "    \n",
    "    Y_pred_2 = (clf.predict_proba(X_test)[:,1] >= Thr[i] ).astype(bool)\n",
    "    tn, fp, fn, tp = confusion_matrix(Y_test, Y_pred_2).ravel()\n",
    "    NPV_vec[i] = tn/(fn+tn)\n",
    "    TNR_vec[i] = tn/(tn+fp)\n",
    "    print('Thr[i], NPV_vec[i], TNR_vec[i]', Thr[i], NPV_vec[i], TNR_vec[i])\n",
    "\n",
    "plt.plot(NPV_vec,TNR_vec)\n",
    "\n",
    "plt.xlabel('NPV')\n",
    "plt.ylabel('TNR')\n",
    "\n",
    "timestr = time.strftime(\"%m_%d_%Y_%H%M%S\")\n",
    "plt.tight_layout()\n",
    "plt.savefig('figures/'+timestr +'_NPV' +'.png', dpi=300)\n",
    "\n",
    "\n",
    "\n",
    "plt.plot()"
   ]
  },
  {
   "cell_type": "code",
   "execution_count": null,
   "metadata": {},
   "outputs": [],
   "source": []
  },
  {
   "cell_type": "code",
   "execution_count": null,
   "metadata": {},
   "outputs": [],
   "source": [
    "#### TRASH CODES ####\n",
    "\n",
    "\n",
    "\n",
    "# Only for test: create direct correlations\n",
    "\n",
    "print(np.mean(X_train[:,9]))\n",
    "\n",
    "Y_train[np.where(X_train[:,5]<=0.2)[0]] = 0\n",
    "Y_train[np.where(X_train[:,5]>0.2)[0]] = 1\n",
    "\n",
    "Y_test[np.where(X_test[:,5]<=0.2)[0]] = 0\n",
    "Y_test[np.where(X_test[:,5]>0.2)[0]] = 1"
   ]
  }
 ],
 "metadata": {
  "kernelspec": {
   "display_name": "Python 3",
   "language": "python",
   "name": "python3"
  },
  "language_info": {
   "codemirror_mode": {
    "name": "ipython",
    "version": 3
   },
   "file_extension": ".py",
   "mimetype": "text/x-python",
   "name": "python",
   "nbconvert_exporter": "python",
   "pygments_lexer": "ipython3",
   "version": "3.6.6"
  }
 },
 "nbformat": 4,
 "nbformat_minor": 2
}
